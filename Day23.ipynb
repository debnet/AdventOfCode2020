{
 "cells": [
  {
   "cell_type": "code",
   "execution_count": 1,
   "metadata": {},
   "outputs": [],
   "source": [
    "inputs = list(map(int, open('Day23.txt').read()))"
   ]
  },
  {
   "cell_type": "code",
   "execution_count": 2,
   "metadata": {},
   "outputs": [],
   "source": [
    "class Item(int):\n",
    "    def __new__(cls, value):\n",
    "        new_int = int.__new__(cls, value)\n",
    "        new_int.prev = x.next = None\n",
    "        return new_int\n",
    "        \n",
    "class Deque:\n",
    "    def __init__(self, values=None):\n",
    "        self.current = None\n",
    "        self.items = {}\n",
    "        self.extend(values or ())\n",
    "        \n",
    "    def extend(self, values):\n",
    "        first = self.current\n",
    "        last = first.prev if first else None\n",
    "        for value in values:\n",
    "            item = Item(value)\n",
    "            self.items[item] = item\n",
    "            if not last:\n",
    "                first = item\n",
    "            else:\n",
    "                last.next = item\n",
    "                item.prev = last\n",
    "            last = item\n",
    "        if first:\n",
    "            first.prev = last\n",
    "        if last:\n",
    "            last.next = first\n",
    "        if not self.current:\n",
    "            self.current = first\n",
    "    \n",
    "    def pop_next(self):\n",
    "        item = self.current.next\n",
    "        self.current.next = item.next\n",
    "        item.next.prev = self.current\n",
    "        item.prev = item.next = None\n",
    "        del self.items[item]\n",
    "        return item\n",
    "    \n",
    "    def pop_many(self, count):\n",
    "        return [self.pop_next() for i in range(count)]\n",
    "    \n",
    "    def insert_next(self, item):\n",
    "        item.next = self.current.next\n",
    "        item.prev = self.current\n",
    "        self.current.next = item\n",
    "        item.next.prev = item\n",
    "        self.items[item] = item\n",
    "        \n",
    "    def insert_many_after(self, items, item):\n",
    "        current = self.current\n",
    "        self.current = self.items[item]\n",
    "        for item in reversed(items):\n",
    "            self.insert_next(item)\n",
    "        self.current = current\n",
    "        \n",
    "    def return_to_start(self):\n",
    "        self.current = self.items[1]\n",
    "        return self.current\n",
    "        \n",
    "    def forward(self):\n",
    "        self.current = self.current.next\n",
    "        return self.current\n",
    "        \n",
    "    def __iter__(self):\n",
    "        item = self.current\n",
    "        yield item\n",
    "        item = item.next\n",
    "        while item is not self.current:\n",
    "            yield item\n",
    "            item = item.next"
   ]
  },
  {
   "cell_type": "code",
   "execution_count": 3,
   "metadata": {},
   "outputs": [],
   "source": [
    "from tqdm.notebook import trange\n",
    "\n",
    "def play(inputs, turns=100, maximum=None):\n",
    "    minimum = min(inputs)\n",
    "    cups = Deque(inputs)\n",
    "    if maximum:\n",
    "        cups.extend(range(max(inputs) + 1, maximum + 1))\n",
    "    maximum = maximum or max(inputs)\n",
    "    for turn in trange(turns):\n",
    "        pick = cups.pop_many(3)\n",
    "        dest = cups.current - 1\n",
    "        if dest < minimum:\n",
    "            dest = maximum\n",
    "        while dest in pick:\n",
    "            dest -= 1\n",
    "            if dest < minimum:\n",
    "                dest = maximum\n",
    "        cups.insert_many_after(pick, dest)\n",
    "        cups.forward()\n",
    "    cups.return_to_start()\n",
    "    return cups"
   ]
  },
  {
   "cell_type": "code",
   "execution_count": 4,
   "metadata": {},
   "outputs": [
    {
     "data": {
      "application/vnd.jupyter.widget-view+json": {
       "model_id": "e1fa624175774b54adebc4076004592e",
       "version_major": 2,
       "version_minor": 0
      },
      "text/plain": [
       "HBox(children=(HTML(value=''), FloatProgress(value=0.0), HTML(value='')))"
      ]
     },
     "metadata": {},
     "output_type": "display_data"
    },
    {
     "name": "stdout",
     "output_type": "stream",
     "text": [
      "\n",
      "CPU times: user 34.4 ms, sys: 1.27 ms, total: 35.7 ms\n",
      "Wall time: 33 ms\n"
     ]
    },
    {
     "data": {
      "text/plain": [
       "97632548"
      ]
     },
     "execution_count": 4,
     "metadata": {},
     "output_type": "execute_result"
    }
   ],
   "source": [
    "%%time\n",
    "cups = play(inputs, turns=100)\n",
    "int(''.join(map(str, cups))[1:])"
   ]
  },
  {
   "cell_type": "code",
   "execution_count": 5,
   "metadata": {},
   "outputs": [
    {
     "data": {
      "application/vnd.jupyter.widget-view+json": {
       "model_id": "f119fafb12694599997a39a8b616014f",
       "version_major": 2,
       "version_minor": 0
      },
      "text/plain": [
       "HBox(children=(HTML(value=''), FloatProgress(value=0.0, max=10000000.0), HTML(value='')))"
      ]
     },
     "metadata": {},
     "output_type": "display_data"
    },
    {
     "name": "stdout",
     "output_type": "stream",
     "text": [
      "\n",
      "CPU times: user 1min 3s, sys: 780 ms, total: 1min 3s\n",
      "Wall time: 1min 3s\n"
     ]
    },
    {
     "data": {
      "text/plain": [
       "412990492266"
      ]
     },
     "execution_count": 5,
     "metadata": {},
     "output_type": "execute_result"
    }
   ],
   "source": [
    "%%time\n",
    "from operator import mul\n",
    "cups = play(inputs, turns=10_000_000, maximum=1_000_000)\n",
    "mul(cups.current.next, cups.current.next.next)"
   ]
  }
 ],
 "metadata": {
  "kernelspec": {
   "display_name": "Python 3",
   "language": "python",
   "name": "python3"
  },
  "language_info": {
   "codemirror_mode": {
    "name": "ipython",
    "version": 3
   },
   "file_extension": ".py",
   "mimetype": "text/x-python",
   "name": "python",
   "nbconvert_exporter": "python",
   "pygments_lexer": "ipython3",
   "version": "3.9.1"
  }
 },
 "nbformat": 4,
 "nbformat_minor": 4
}
