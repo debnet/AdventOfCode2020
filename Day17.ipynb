{
 "cells": [
  {
   "cell_type": "code",
   "execution_count": 1,
   "metadata": {},
   "outputs": [],
   "source": [
    "with open('Day17.txt') as f:\n",
    "    inputs = f.read()"
   ]
  },
  {
   "cell_type": "code",
   "execution_count": 2,
   "metadata": {},
   "outputs": [],
   "source": [
    "grid = {}\n",
    "for y, line in enumerate(inputs.splitlines()):\n",
    "    for x, state in enumerate(line):\n",
    "        if state == '#':\n",
    "            grid[(x, y, 0, 0)] = True"
   ]
  },
  {
   "cell_type": "code",
   "execution_count": 3,
   "metadata": {},
   "outputs": [],
   "source": [
    "def get_neighbours(grid, point, dimensions=3):\n",
    "    neighbours = 0\n",
    "    ox, oy, oz, ow = point\n",
    "    for w in range(ow - 1, ow + 2) if dimensions > 3 else [0]:\n",
    "        for z in range(oz - 1, oz + 2) if dimensions > 2 else [0]:\n",
    "            for y in range(oy - 1, oy + 2):\n",
    "                for x in range(ox - 1, ox + 2):\n",
    "                    if (x, y, z, w) == (ox, oy, oz, ow):\n",
    "                        continue\n",
    "                    neighbours += grid.get((x, y, z, w), 0)\n",
    "    return neighbours"
   ]
  },
  {
   "cell_type": "code",
   "execution_count": 4,
   "metadata": {},
   "outputs": [],
   "source": [
    "def compute(grid, cycles=6, dimensions=3):\n",
    "    current_grid = grid.copy()\n",
    "    for cycle in range(cycles):\n",
    "        work_grid, work_count = {}, 0\n",
    "        mins, maxs = [0] * 4, [0] * 4\n",
    "        for coords in current_grid.keys():\n",
    "            for i in range(len(coords)):\n",
    "                mins[i] = min(mins[i], coords[i] - 1)\n",
    "                maxs[i] = max(maxs[i], coords[i] + 2)\n",
    "        for w in range(mins[3], maxs[3]) if dimensions > 3 else [0]:\n",
    "            for z in range(mins[2], maxs[2]) if dimensions > 2 else [0]:\n",
    "                for y in range(mins[1], maxs[1]):\n",
    "                    for x in range(mins[0], maxs[0]):\n",
    "                        coords = (x, y, z, w)\n",
    "                        value = current_grid.get(coords, False)\n",
    "                        neighbours = get_neighbours(current_grid, coords, dimensions=dimensions)\n",
    "                        if (value and 2 <= neighbours <= 3) or (not value and neighbours == 3):\n",
    "                            work_grid[coords] = True\n",
    "                            work_count += 1\n",
    "        current_grid = work_grid\n",
    "    return current_grid, work_count"
   ]
  },
  {
   "cell_type": "code",
   "execution_count": 5,
   "metadata": {},
   "outputs": [
    {
     "name": "stdout",
     "output_type": "stream",
     "text": [
      "CPU times: user 118 ms, sys: 1.02 ms, total: 119 ms\n",
      "Wall time: 118 ms\n"
     ]
    },
    {
     "data": {
      "text/plain": [
       "304"
      ]
     },
     "execution_count": 5,
     "metadata": {},
     "output_type": "execute_result"
    }
   ],
   "source": [
    "%time new_grid, count = compute(grid, cycles=6, dimensions=3)\n",
    "count"
   ]
  },
  {
   "cell_type": "code",
   "execution_count": 6,
   "metadata": {},
   "outputs": [
    {
     "name": "stdout",
     "output_type": "stream",
     "text": [
      "CPU times: user 3.29 s, sys: 2.84 ms, total: 3.29 s\n",
      "Wall time: 3.3 s\n"
     ]
    },
    {
     "data": {
      "text/plain": [
       "1868"
      ]
     },
     "execution_count": 6,
     "metadata": {},
     "output_type": "execute_result"
    }
   ],
   "source": [
    "%time new_grid, count = compute(grid, cycles=6, dimensions=4)\n",
    "count"
   ]
  }
 ],
 "metadata": {
  "kernelspec": {
   "display_name": "Python 3",
   "language": "python",
   "name": "python3"
  },
  "language_info": {
   "codemirror_mode": {
    "name": "ipython",
    "version": 3
   },
   "file_extension": ".py",
   "mimetype": "text/x-python",
   "name": "python",
   "nbconvert_exporter": "python",
   "pygments_lexer": "ipython3",
   "version": "3.9.1"
  }
 },
 "nbformat": 4,
 "nbformat_minor": 4
}
