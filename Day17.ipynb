{
 "cells": [
  {
   "cell_type": "code",
   "execution_count": 1,
   "metadata": {},
   "outputs": [],
   "source": [
    "with open('Day17.txt') as f:\n",
    "    inputs = f.read()"
   ]
  },
  {
   "cell_type": "code",
   "execution_count": 2,
   "metadata": {},
   "outputs": [],
   "source": [
    "grid = {}\n",
    "for y, line in enumerate(inputs.splitlines()):\n",
    "    for x, state in enumerate(line):\n",
    "        if state == '#':\n",
    "            grid[(x, y, 0, 0)] = True"
   ]
  },
  {
   "cell_type": "code",
   "execution_count": 3,
   "metadata": {},
   "outputs": [],
   "source": [
    "def get_neighbours(grid, point, dimensions=3):\n",
    "    neighbours = 0\n",
    "    ox, oy, oz, ow = point\n",
    "    for w in range(ow - 1, ow + 2) if dimensions > 3 else range(1):\n",
    "        for z in range(oz - 1, oz + 2) if dimensions > 2 else range(1):\n",
    "            for y in range(oy - 1, oy + 2):\n",
    "                for x in range(ox - 1, ox + 2):\n",
    "                    if (x, y, z, w) == (ox, oy, oz, ow):\n",
    "                        continue\n",
    "                    neighbours += grid.get((x, y, z, w), 0)\n",
    "    return neighbours"
   ]
  },
  {
   "cell_type": "code",
   "execution_count": 4,
   "metadata": {},
   "outputs": [],
   "source": [
    "def compute(grid, cycles=6, dimensions=3):\n",
    "    current_grid = grid.copy()\n",
    "    for cycle in range(cycles):\n",
    "        work_grid = {}\n",
    "        xs, ys, zs, ws = set(), set(), set(), set()\n",
    "        for (x, y, z, w) in current_grid.keys():\n",
    "            xs.add(x); ys.add(y); zs.add(z); ws.add(w)\n",
    "        for w in range(min(ws) - 1, max(ws) + 2) if dimensions > 3 else range(1):\n",
    "            for z in range(min(zs) - 1, max(zs) + 2) if dimensions > 2 else range(1):\n",
    "                for y in range(min(ys) - 1, max(ys) + 2):\n",
    "                    for x in range(min(xs) - 1, max(xs) + 2):\n",
    "                        value = current_grid.get((x, y, z, w), False)\n",
    "                        neighbours = get_neighbours(current_grid, (x, y, z, w), dimensions=dimensions)\n",
    "                        if (value and 2 <= neighbours <= 3) or (not value and neighbours == 3):\n",
    "                            work_grid[x, y, z, w] = True\n",
    "        current_grid = work_grid\n",
    "    return current_grid"
   ]
  },
  {
   "cell_type": "code",
   "execution_count": 5,
   "metadata": {},
   "outputs": [
    {
     "name": "stdout",
     "output_type": "stream",
     "text": [
      "CPU times: user 118 ms, sys: 0 ns, total: 118 ms\n",
      "Wall time: 118 ms\n"
     ]
    },
    {
     "data": {
      "text/plain": [
       "304"
      ]
     },
     "execution_count": 5,
     "metadata": {},
     "output_type": "execute_result"
    }
   ],
   "source": [
    "%time sum(compute(grid, cycles=6, dimensions=3).values())"
   ]
  },
  {
   "cell_type": "code",
   "execution_count": 6,
   "metadata": {},
   "outputs": [
    {
     "name": "stdout",
     "output_type": "stream",
     "text": [
      "CPU times: user 3.25 s, sys: 1.73 ms, total: 3.25 s\n",
      "Wall time: 3.26 s\n"
     ]
    },
    {
     "data": {
      "text/plain": [
       "1868"
      ]
     },
     "execution_count": 6,
     "metadata": {},
     "output_type": "execute_result"
    }
   ],
   "source": [
    "%time sum(compute(grid, cycles=6, dimensions=4).values())"
   ]
  }
 ],
 "metadata": {
  "kernelspec": {
   "display_name": "Python 3",
   "language": "python",
   "name": "python3"
  },
  "language_info": {
   "codemirror_mode": {
    "name": "ipython",
    "version": 3
   },
   "file_extension": ".py",
   "mimetype": "text/x-python",
   "name": "python",
   "nbconvert_exporter": "python",
   "pygments_lexer": "ipython3",
   "version": "3.9.1"
  }
 },
 "nbformat": 4,
 "nbformat_minor": 4
}
