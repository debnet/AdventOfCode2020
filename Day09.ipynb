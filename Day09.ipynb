{
 "cells": [
  {
   "cell_type": "code",
   "execution_count": 1,
   "metadata": {},
   "outputs": [],
   "source": [
    "with open('Day09.txt') as f:\n",
    "    inputs = f.read()\n",
    "inputs = list(map(int, inputs.splitlines()))"
   ]
  },
  {
   "cell_type": "code",
   "execution_count": 2,
   "metadata": {},
   "outputs": [],
   "source": [
    "from itertools import combinations\n",
    "\n",
    "def find_error(inputs):\n",
    "    for i in range(len(inputs)):\n",
    "        subrange = inputs[i:i+25]\n",
    "        if len(subrange) != 25:\n",
    "            return None\n",
    "        found = False\n",
    "        value = inputs[i+25]\n",
    "        for isum in map(sum, combinations(subrange, 2)):\n",
    "            if value == isum:\n",
    "                found = True\n",
    "                break\n",
    "        if not found:\n",
    "            return value"
   ]
  },
  {
   "cell_type": "code",
   "execution_count": 3,
   "metadata": {},
   "outputs": [
    {
     "data": {
      "text/plain": [
       "15353384"
      ]
     },
     "execution_count": 3,
     "metadata": {},
     "output_type": "execute_result"
    }
   ],
   "source": [
    "error = find_error(inputs)\n",
    "error"
   ]
  },
  {
   "cell_type": "code",
   "execution_count": 4,
   "metadata": {},
   "outputs": [],
   "source": [
    "def find_weakness(inputs, error=0):\n",
    "    items = []\n",
    "    for item in inputs:\n",
    "        if item > error:\n",
    "            return\n",
    "        items.append(item)\n",
    "        while sum(items) > error:\n",
    "            items.pop(0)\n",
    "        if sum(items) == error:\n",
    "            return min(items) + max(items)"
   ]
  },
  {
   "cell_type": "code",
   "execution_count": 5,
   "metadata": {},
   "outputs": [
    {
     "data": {
      "text/plain": [
       "2466556"
      ]
     },
     "execution_count": 5,
     "metadata": {},
     "output_type": "execute_result"
    }
   ],
   "source": [
    "find_weakness(inputs, error=error)"
   ]
  }
 ],
 "metadata": {
  "kernelspec": {
   "display_name": "Python 3",
   "language": "python",
   "name": "python3"
  },
  "language_info": {
   "codemirror_mode": {
    "name": "ipython",
    "version": 3
   },
   "file_extension": ".py",
   "mimetype": "text/x-python",
   "name": "python",
   "nbconvert_exporter": "python",
   "pygments_lexer": "ipython3",
   "version": "3.9.0"
  }
 },
 "nbformat": 4,
 "nbformat_minor": 4
}
