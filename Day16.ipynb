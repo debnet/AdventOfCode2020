{
 "cells": [
  {
   "cell_type": "code",
   "execution_count": 1,
   "metadata": {},
   "outputs": [],
   "source": [
    "with open('Day16.txt') as f:\n",
    "    data = f.read()"
   ]
  },
  {
   "cell_type": "code",
   "execution_count": 2,
   "metadata": {},
   "outputs": [],
   "source": [
    "import re\n",
    "regex_field = re.compile(r'([\\w\\s]+): (\\d+)-(\\d+) or (\\d+)-(\\d+)')\n",
    "\n",
    "fields, my_ticket, tickets = {}, [], []\n",
    "for part, block in enumerate(data.split('\\n\\n')):\n",
    "    if part == 0:  # ticket fields\n",
    "        for line in block.splitlines():\n",
    "            field_name, mina, maxa, minb, maxb = regex_field.match(line).groups()\n",
    "            mina, maxa, minb, maxb = int(mina), int(maxa), int(minb), int(maxb)\n",
    "            fields[field_name] = (\n",
    "                lambda value, mina=mina, maxa=maxa, minb=minb, maxb=maxb: (mina <= value <= maxa) or (minb <= value <= maxb))\n",
    "    elif part == 1:  # my ticket\n",
    "        my_ticket = list(map(int, block.replace('your ticket:\\n', '').split(',')))\n",
    "    elif part == 2:  # others tickets\n",
    "        for index, line in enumerate(block.splitlines()):\n",
    "            if not index:\n",
    "                continue\n",
    "            tickets.append(list(map(int, line.split(','))))"
   ]
  },
  {
   "cell_type": "code",
   "execution_count": 3,
   "metadata": {},
   "outputs": [],
   "source": [
    "def get_valid_tickets(tickets, fields):\n",
    "    valid_tickets = []\n",
    "    error_rate = 0\n",
    "    for ticket in tickets:\n",
    "        is_valid = True\n",
    "        for value in ticket:\n",
    "            for field_name, check in fields.items():\n",
    "                if check(value):\n",
    "                    break\n",
    "            else:\n",
    "                is_valid = False\n",
    "                error_rate += value\n",
    "        if is_valid:\n",
    "            valid_tickets.append(ticket)\n",
    "    return valid_tickets, error_rate"
   ]
  },
  {
   "cell_type": "code",
   "execution_count": 4,
   "metadata": {},
   "outputs": [
    {
     "name": "stdout",
     "output_type": "stream",
     "text": [
      "CPU times: user 1.61 ms, sys: 0 ns, total: 1.61 ms\n",
      "Wall time: 1.62 ms\n"
     ]
    },
    {
     "data": {
      "text/plain": [
       "23044"
      ]
     },
     "execution_count": 4,
     "metadata": {},
     "output_type": "execute_result"
    }
   ],
   "source": [
    "%time valid_tickets, error_rate = get_valid_tickets(tickets, fields)\n",
    "error_rate"
   ]
  },
  {
   "cell_type": "code",
   "execution_count": 5,
   "metadata": {},
   "outputs": [],
   "source": [
    "def find_valid_fields(tickets, fields):\n",
    "    valid_fields = {}\n",
    "    for index in range(len(my_ticket)):\n",
    "        checks = set(fields.keys())\n",
    "        for value in (ticket[index] for ticket in tickets):\n",
    "            for name, check in fields.items():\n",
    "                if name not in checks:\n",
    "                    continue\n",
    "                if not check(value):\n",
    "                    checks.remove(name)\n",
    "        valid_fields[index] = checks\n",
    "    used_fields = set()\n",
    "    for index, field_set in sorted(valid_fields.items(), key=lambda e: len(e[1])):\n",
    "        valid_fields[index] = next(iter(field_set - used_fields))\n",
    "        used_fields.update(field_set)\n",
    "    return valid_fields"
   ]
  },
  {
   "cell_type": "code",
   "execution_count": 6,
   "metadata": {},
   "outputs": [
    {
     "name": "stdout",
     "output_type": "stream",
     "text": [
      "CPU times: user 12.4 ms, sys: 0 ns, total: 12.4 ms\n",
      "Wall time: 12.3 ms\n"
     ]
    }
   ],
   "source": [
    "%time valid_fields = find_valid_fields(valid_tickets, fields)"
   ]
  },
  {
   "cell_type": "code",
   "execution_count": 7,
   "metadata": {},
   "outputs": [
    {
     "data": {
      "text/plain": [
       "3765150732757"
      ]
     },
     "execution_count": 7,
     "metadata": {},
     "output_type": "execute_result"
    }
   ],
   "source": [
    "from functools import reduce\n",
    "from operator import mul\n",
    "\n",
    "reduce(mul, (my_ticket[index] for index, field_name in valid_fields.items() if 'departure' in field_name))"
   ]
  }
 ],
 "metadata": {
  "kernelspec": {
   "display_name": "Python 3",
   "language": "python",
   "name": "python3"
  },
  "language_info": {
   "codemirror_mode": {
    "name": "ipython",
    "version": 3
   },
   "file_extension": ".py",
   "mimetype": "text/x-python",
   "name": "python",
   "nbconvert_exporter": "python",
   "pygments_lexer": "ipython3",
   "version": "3.9.0"
  }
 },
 "nbformat": 4,
 "nbformat_minor": 4
}
