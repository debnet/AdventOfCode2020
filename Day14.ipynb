{
 "cells": [
  {
   "cell_type": "code",
   "execution_count": 1,
   "metadata": {},
   "outputs": [],
   "source": [
    "with open('Day14.txt') as f:\n",
    "    inputs = f.readlines()"
   ]
  },
  {
   "cell_type": "code",
   "execution_count": 2,
   "metadata": {},
   "outputs": [],
   "source": [
    "import re\n",
    "from itertools import product\n",
    "\n",
    "\n",
    "regex_mask = re.compile(r'mask = ([X01]+)')\n",
    "regex_mem = re.compile(r'mem\\[(\\d+)\\] = (\\d+)')\n",
    "\n",
    "def solve(inputs, mask_address=False):\n",
    "    mask = None\n",
    "    memory = {}\n",
    "    for line in inputs:\n",
    "        is_mask = regex_mask.match(line)\n",
    "        is_mem = regex_mem.match(line)\n",
    "        if is_mask:\n",
    "            mask, *_ = is_mask.groups()\n",
    "        elif is_mem and mask:\n",
    "            address, value = is_mem.groups()\n",
    "            address, value = int(address), int(value)\n",
    "            if mask_address:\n",
    "                binary_address = bin(address)[2:].zfill(36)\n",
    "                masked_address = ''.join(\n",
    "                    bit if bit != '0' else binary_address[index]\n",
    "                    for index, bit in enumerate(mask))\n",
    "                for combination in product('01', repeat=masked_address.count('X')):\n",
    "                    binary_address = masked_address\n",
    "                    for bit in combination:\n",
    "                        binary_address = binary_address.replace('X', bit, 1)\n",
    "                    memory[int(binary_address, 2)] = value\n",
    "            else:\n",
    "                binary_value = bin(value)[2:].zfill(36)\n",
    "                masked_value = ''.join(\n",
    "                    binary_value[index] if bit == 'X' else bit \n",
    "                    for index, bit in enumerate(mask))\n",
    "                memory[address] = int(masked_value, 2)\n",
    "    return sum(memory.values())"
   ]
  },
  {
   "cell_type": "code",
   "execution_count": 3,
   "metadata": {},
   "outputs": [
    {
     "data": {
      "text/plain": [
       "15514035145260"
      ]
     },
     "execution_count": 3,
     "metadata": {},
     "output_type": "execute_result"
    }
   ],
   "source": [
    "solve(inputs)"
   ]
  },
  {
   "cell_type": "code",
   "execution_count": 4,
   "metadata": {},
   "outputs": [
    {
     "data": {
      "text/plain": [
       "3926790061594"
      ]
     },
     "execution_count": 4,
     "metadata": {},
     "output_type": "execute_result"
    }
   ],
   "source": [
    "solve(inputs, mask_address=True)"
   ]
  }
 ],
 "metadata": {
  "kernelspec": {
   "display_name": "Python 3",
   "language": "python",
   "name": "python3"
  },
  "language_info": {
   "codemirror_mode": {
    "name": "ipython",
    "version": 3
   },
   "file_extension": ".py",
   "mimetype": "text/x-python",
   "name": "python",
   "nbconvert_exporter": "python",
   "pygments_lexer": "ipython3",
   "version": "3.9.0"
  }
 },
 "nbformat": 4,
 "nbformat_minor": 4
}
