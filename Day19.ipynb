{
 "cells": [
  {
   "cell_type": "code",
   "execution_count": 1,
   "metadata": {},
   "outputs": [],
   "source": [
    "with open('Day19.txt') as f:\n",
    "    rules, messages = f.read().split('\\n\\n')"
   ]
  },
  {
   "cell_type": "code",
   "execution_count": 2,
   "metadata": {},
   "outputs": [],
   "source": [
    "import re\n",
    "\n",
    "class Rule:\n",
    "    _all = {}\n",
    "    \n",
    "    def __init__(self, line):\n",
    "        index, raw = line.split(': ')\n",
    "        self.index = int(index)\n",
    "        self.raw = raw.split()\n",
    "        Rule._all[self.index] = self\n",
    "        \n",
    "    def raw_regex(self, _depth=0):\n",
    "        if _depth > 20:\n",
    "            return ''\n",
    "        if len(self.raw) == 1 and '\"' in self.raw[0]:\n",
    "            return self.raw[0][1:-1]\n",
    "        string = []\n",
    "        if '|' in self.raw:\n",
    "            string.append('(')\n",
    "        string.append('(')\n",
    "        for item in self.raw:\n",
    "            if item.isdigit():\n",
    "                item = int(item)\n",
    "                string.append(Rule._all[item].raw_regex(_depth + 1))\n",
    "            elif item == '|':\n",
    "                string.append(')|(')\n",
    "            elif '\"' in item:\n",
    "                string.append(item[1:-1])\n",
    "        string.append(')')\n",
    "        if '|' in self.raw:\n",
    "            string.append(')')\n",
    "        string = ''.join(string)\n",
    "        return string\n",
    "    \n",
    "    @property\n",
    "    def regex(self):\n",
    "        return re.compile(self.raw_regex())"
   ]
  },
  {
   "cell_type": "code",
   "execution_count": 3,
   "metadata": {},
   "outputs": [],
   "source": [
    "Rule._all.clear()\n",
    "for rule in rules.splitlines():\n",
    "    Rule(rule)"
   ]
  },
  {
   "cell_type": "code",
   "execution_count": 4,
   "metadata": {},
   "outputs": [
    {
     "name": "stdout",
     "output_type": "stream",
     "text": [
      "CPU times: user 31 ms, sys: 0 ns, total: 31 ms\n",
      "Wall time: 31.1 ms\n"
     ]
    },
    {
     "data": {
      "text/plain": [
       "156"
      ]
     },
     "execution_count": 4,
     "metadata": {},
     "output_type": "execute_result"
    }
   ],
   "source": [
    "%%time\n",
    "regex = Rule._all[0].regex\n",
    "sum(bool(regex.fullmatch(message)) for message in messages.splitlines())"
   ]
  },
  {
   "cell_type": "code",
   "execution_count": 5,
   "metadata": {},
   "outputs": [],
   "source": [
    "Rule._all[8].raw = '42 | 42 8'.split()\n",
    "Rule._all[11].raw = '42 31 | 42 11 31'.split()"
   ]
  },
  {
   "cell_type": "code",
   "execution_count": 6,
   "metadata": {},
   "outputs": [
    {
     "name": "stdout",
     "output_type": "stream",
     "text": [
      "CPU times: user 645 ms, sys: 11.8 ms, total: 657 ms\n",
      "Wall time: 657 ms\n"
     ]
    },
    {
     "data": {
      "text/plain": [
       "363"
      ]
     },
     "execution_count": 6,
     "metadata": {},
     "output_type": "execute_result"
    }
   ],
   "source": [
    "%%time\n",
    "regex = Rule._all[0].regex\n",
    "sum(bool(regex.fullmatch(message)) for message in messages.splitlines())"
   ]
  }
 ],
 "metadata": {
  "kernelspec": {
   "display_name": "Python 3",
   "language": "python",
   "name": "python3"
  },
  "language_info": {
   "codemirror_mode": {
    "name": "ipython",
    "version": 3
   },
   "file_extension": ".py",
   "mimetype": "text/x-python",
   "name": "python",
   "nbconvert_exporter": "python",
   "pygments_lexer": "ipython3",
   "version": "3.9.1"
  }
 },
 "nbformat": 4,
 "nbformat_minor": 4
}
