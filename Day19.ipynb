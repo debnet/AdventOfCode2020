{
 "cells": [
  {
   "cell_type": "code",
   "execution_count": 1,
   "metadata": {},
   "outputs": [],
   "source": [
    "with open('Day19.txt') as f:\n",
    "    rules, messages = f.read().split('\\n\\n')"
   ]
  },
  {
   "cell_type": "code",
   "execution_count": 2,
   "metadata": {},
   "outputs": [],
   "source": [
    "import re\n",
    "\n",
    "class Rule:\n",
    "    _all = {}\n",
    "    _max_depth = 20\n",
    "    \n",
    "    def __init__(self, line):\n",
    "        index, raw = line.split(': ')\n",
    "        self.index = int(index)\n",
    "        self.raw = raw\n",
    "        Rule._all[self.index] = self\n",
    "        \n",
    "    def raw_regex(self, _depth=0):\n",
    "        if _depth > self._max_depth:\n",
    "            return ''\n",
    "        if '\"' in self.raw:\n",
    "            return self.raw[1:-1]\n",
    "        string = []\n",
    "        if '|' in self.raw:\n",
    "            string.append('(')\n",
    "        string.append('(')\n",
    "        for item in self.raw.split():\n",
    "            if item.isdigit():\n",
    "                item = int(item)\n",
    "                string.append(Rule.get(item).raw_regex(_depth + 1))\n",
    "            elif item == '|':\n",
    "                string.append(')|(')\n",
    "            elif '\"' in item:\n",
    "                string.append(item[1:-1])\n",
    "        string.append(')')\n",
    "        if '|' in self.raw:\n",
    "            string.append(')')\n",
    "        string = ''.join(string)\n",
    "        return string\n",
    "    \n",
    "    @classmethod\n",
    "    def get(cls, rule_id):\n",
    "        return cls._all.get(rule_id)\n",
    "    \n",
    "    @property\n",
    "    def regex(self):\n",
    "        return re.compile(self.raw_regex())"
   ]
  },
  {
   "cell_type": "code",
   "execution_count": 3,
   "metadata": {},
   "outputs": [],
   "source": [
    "for rule in rules.splitlines():\n",
    "    Rule(rule)"
   ]
  },
  {
   "cell_type": "code",
   "execution_count": 4,
   "metadata": {},
   "outputs": [
    {
     "name": "stdout",
     "output_type": "stream",
     "text": [
      "CPU times: user 24.8 ms, sys: 0 ns, total: 24.8 ms\n",
      "Wall time: 24.5 ms\n"
     ]
    },
    {
     "data": {
      "text/plain": [
       "156"
      ]
     },
     "execution_count": 4,
     "metadata": {},
     "output_type": "execute_result"
    }
   ],
   "source": [
    "%%time\n",
    "regex = Rule.get(0).regex\n",
    "sum(bool(regex.fullmatch(message)) for message in messages.splitlines())"
   ]
  },
  {
   "cell_type": "code",
   "execution_count": 5,
   "metadata": {},
   "outputs": [],
   "source": [
    "Rule.get(8).raw = '42 | 42 8'\n",
    "Rule.get(11).raw = '42 31 | 42 11 31'"
   ]
  },
  {
   "cell_type": "code",
   "execution_count": 6,
   "metadata": {},
   "outputs": [
    {
     "name": "stdout",
     "output_type": "stream",
     "text": [
      "CPU times: user 652 ms, sys: 10.8 ms, total: 662 ms\n",
      "Wall time: 663 ms\n"
     ]
    },
    {
     "data": {
      "text/plain": [
       "363"
      ]
     },
     "execution_count": 6,
     "metadata": {},
     "output_type": "execute_result"
    }
   ],
   "source": [
    "%%time\n",
    "regex = Rule.get(0).regex\n",
    "sum(bool(regex.fullmatch(message)) for message in messages.splitlines())"
   ]
  }
 ],
 "metadata": {
  "kernelspec": {
   "display_name": "Python 3",
   "language": "python",
   "name": "python3"
  },
  "language_info": {
   "codemirror_mode": {
    "name": "ipython",
    "version": 3
   },
   "file_extension": ".py",
   "mimetype": "text/x-python",
   "name": "python",
   "nbconvert_exporter": "python",
   "pygments_lexer": "ipython3",
   "version": "3.9.1"
  }
 },
 "nbformat": 4,
 "nbformat_minor": 4
}
