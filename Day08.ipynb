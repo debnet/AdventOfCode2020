{
 "cells": [
  {
   "cell_type": "code",
   "execution_count": 1,
   "metadata": {},
   "outputs": [],
   "source": [
    "with open('Day08.txt') as f:\n",
    "    inputs = f.read()\n",
    "inputs = inputs.splitlines()"
   ]
  },
  {
   "cell_type": "code",
   "execution_count": 2,
   "metadata": {},
   "outputs": [],
   "source": [
    "def run(inputs, fix=None):\n",
    "    accumulator, index = 0, 0\n",
    "    evaluated, premature = set(), False\n",
    "    while index < len(inputs):\n",
    "        evaluated.add(index)\n",
    "        operation, shift = inputs[index].split()\n",
    "        if fix == index:\n",
    "            operation = {\n",
    "                'nop': 'jmp', \n",
    "                'jmp': 'nop',\n",
    "            }.get(operation, operation)\n",
    "        if operation == 'acc':\n",
    "            accumulator += int(shift)\n",
    "            index += 1\n",
    "        elif operation == 'jmp':\n",
    "            index += int(shift)\n",
    "        elif operation == 'nop':\n",
    "            index += 1\n",
    "        if index in evaluated:\n",
    "            premature = True\n",
    "            break\n",
    "    return accumulator, premature"
   ]
  },
  {
   "cell_type": "code",
   "execution_count": 3,
   "metadata": {},
   "outputs": [
    {
     "data": {
      "text/plain": [
       "(1262, True)"
      ]
     },
     "execution_count": 3,
     "metadata": {},
     "output_type": "execute_result"
    }
   ],
   "source": [
    "run(inputs)"
   ]
  },
  {
   "cell_type": "code",
   "execution_count": 4,
   "metadata": {},
   "outputs": [
    {
     "data": {
      "text/plain": [
       "1643"
      ]
     },
     "execution_count": 4,
     "metadata": {},
     "output_type": "execute_result"
    }
   ],
   "source": [
    "for fix in range(len(inputs)):\n",
    "    accumulator, premature = run(inputs, fix)\n",
    "    if not premature:\n",
    "        break\n",
    "accumulator"
   ]
  }
 ],
 "metadata": {
  "kernelspec": {
   "display_name": "Python 3",
   "language": "python",
   "name": "python3"
  },
  "language_info": {
   "codemirror_mode": {
    "name": "ipython",
    "version": 3
   },
   "file_extension": ".py",
   "mimetype": "text/x-python",
   "name": "python",
   "nbconvert_exporter": "python",
   "pygments_lexer": "ipython3",
   "version": "3.9.0"
  }
 },
 "nbformat": 4,
 "nbformat_minor": 4
}
