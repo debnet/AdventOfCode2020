{
 "cells": [
  {
   "cell_type": "code",
   "execution_count": 1,
   "metadata": {},
   "outputs": [],
   "source": [
    "with open('Day04.txt') as f:\n",
    "    inputs = f.read()\n",
    "inputs = inputs.splitlines()"
   ]
  },
  {
   "cell_type": "code",
   "execution_count": 2,
   "metadata": {},
   "outputs": [],
   "source": [
    "import dataclasses\n",
    "\n",
    "@dataclasses.dataclass\n",
    "class Passport:\n",
    "    byr: int = None\n",
    "    iyr: int = None\n",
    "    eyr: int = None\n",
    "    hgt: str = None\n",
    "    hcl: str = None\n",
    "    ecl: str = None\n",
    "    pid: str = None\n",
    "    cid: int = None\n",
    "    \n",
    "    @property\n",
    "    def has_all_required_fields(self) -> bool:\n",
    "        data = dataclasses.asdict(self)\n",
    "        data.pop('cid')\n",
    "        return all(data.values())\n",
    "    \n",
    "    @property\n",
    "    def is_byr_valid(self):\n",
    "        return self.byr and 1920 <= int(self.byr) <= 2002\n",
    "    \n",
    "    @property\n",
    "    def is_iyr_valid(self):\n",
    "        return self.iyr and 2010 <= int(self.iyr) <= 2020\n",
    "    \n",
    "    @property\n",
    "    def is_eyr_valid(self):\n",
    "        return self.eyr and 2020 <= int(self.eyr) <= 2030\n",
    "    \n",
    "    @property\n",
    "    def is_hgt_valid(self):\n",
    "        if not self.hgt:\n",
    "            return False\n",
    "        if self.hgt.endswith('cm'):\n",
    "            return 150 <= int(self.hgt[:-2]) <= 193\n",
    "        elif self.hgt.endswith('in'):\n",
    "            return 59 <= int(self.hgt[:-2]) <= 76\n",
    "        return False\n",
    "    \n",
    "    @property\n",
    "    def is_hcl_valid(self):\n",
    "        if not self.hcl or not self.hcl.startswith('#') or len(self.hcl) != 7:\n",
    "            return False\n",
    "        allowed_chars = '0123456789abcdef'\n",
    "        return all(c in allowed_chars for c in self.hcl[1:])\n",
    "    \n",
    "    @property\n",
    "    def is_ecl_valid(self):\n",
    "        return self.ecl and self.ecl in ('amb', 'blu', 'brn', 'gry', 'grn', 'hzl', 'oth')\n",
    "    \n",
    "    @property\n",
    "    def is_pid_valid(self):\n",
    "        return self.pid and len(self.pid) == 9 and self.pid.isdigit()\n",
    "        \n",
    "    @property\n",
    "    def is_valid(self):\n",
    "        return (\n",
    "            self.has_all_required_fields and \n",
    "            self.is_byr_valid and\n",
    "            self.is_iyr_valid and\n",
    "            self.is_eyr_valid and\n",
    "            self.is_hgt_valid and\n",
    "            self.is_hcl_valid and\n",
    "            self.is_ecl_valid and\n",
    "            self.is_pid_valid)"
   ]
  },
  {
   "cell_type": "code",
   "execution_count": 3,
   "metadata": {},
   "outputs": [],
   "source": [
    "import re\n",
    "\n",
    "regex = re.compile(r'(?P<code>\\w{3}):(?P<value>[#\\d\\w]+)')\n",
    "\n",
    "def get_passports(inputs):\n",
    "    passports = []\n",
    "    passport = Passport()\n",
    "    for line in inputs:\n",
    "        for key, value in regex.findall(line):\n",
    "            setattr(passport, key, value)\n",
    "        if not line:\n",
    "            passports.append(passport)\n",
    "            passport = Passport()\n",
    "    passports.append(passport)\n",
    "    return passports\n",
    "\n",
    "passports = get_passports(inputs)"
   ]
  },
  {
   "cell_type": "code",
   "execution_count": 4,
   "metadata": {},
   "outputs": [
    {
     "data": {
      "text/plain": [
       "264"
      ]
     },
     "execution_count": 4,
     "metadata": {},
     "output_type": "execute_result"
    }
   ],
   "source": [
    "sum(passport.has_all_required_fields for passport in passports)"
   ]
  },
  {
   "cell_type": "code",
   "execution_count": 5,
   "metadata": {},
   "outputs": [
    {
     "data": {
      "text/plain": [
       "224"
      ]
     },
     "execution_count": 5,
     "metadata": {},
     "output_type": "execute_result"
    }
   ],
   "source": [
    "sum(passport.is_valid for passport in passports)"
   ]
  }
 ],
 "metadata": {
  "kernelspec": {
   "display_name": "Python 3",
   "language": "python",
   "name": "python3"
  },
  "language_info": {
   "codemirror_mode": {
    "name": "ipython",
    "version": 3
   },
   "file_extension": ".py",
   "mimetype": "text/x-python",
   "name": "python",
   "nbconvert_exporter": "python",
   "pygments_lexer": "ipython3",
   "version": "3.9.0"
  }
 },
 "nbformat": 4,
 "nbformat_minor": 4
}
