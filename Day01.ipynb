{
 "cells": [
  {
   "cell_type": "code",
   "execution_count": 1,
   "metadata": {},
   "outputs": [],
   "source": [
    "inputs = \"997\\n1582\\n1790\\n1798\\n1094\\n1831\\n1879\\n1730\\n1995\\n1702\\n1680\\n1869\\n1964\\n1777\\n1862\\n1928\\n1997\\n1741\\n1604\\n1691\\n1219\\n1458\\n1749\\n1717\\n1786\\n1665\\n1724\\n1998\\n1589\\n1828\\n1953\\n1848\\n1500\\n1590\\n1968\\n1948\\n1323\\n1800\\n1986\\n679\\n1907\\n1916\\n1820\\n1661\\n1479\\n1808\\n1824\\n1825\\n1952\\n1666\\n1541\\n1791\\n1906\\n1638\\n1557\\n1999\\n1710\\n1549\\n1912\\n1974\\n1628\\n1748\\n1411\\n1978\\n1865\\n1932\\n1839\\n1892\\n1981\\n1807\\n357\\n912\\n1443\\n1972\\n1816\\n1890\\n1029\\n1175\\n1522\\n1750\\n2001\\n1655\\n1955\\n1949\\n1660\\n233\\n1891\\n1994\\n1934\\n1908\\n1573\\n1712\\n1622\\n1770\\n1574\\n1778\\n1851\\n2004\\n1818\\n1200\\n1229\\n1110\\n1005\\n1716\\n1765\\n1835\\n1773\\n15\\n1914\\n1833\\n1689\\n1843\\n1718\\n1872\\n390\\n1941\\n1178\\n1670\\n1899\\n1864\\n1913\\n2010\\n1855\\n1797\\n1767\\n1673\\n1657\\n1607\\n1305\\n1341\\n1662\\n1845\\n1980\\n1534\\n1789\\n1876\\n1849\\n1926\\n1958\\n977\\n1709\\n1647\\n1832\\n1785\\n1854\\n1667\\n1679\\n1970\\n1186\\n2000\\n1681\\n1684\\n1614\\n1988\\n1561\\n1594\\n1636\\n1327\\n1696\\n1915\\n1045\\n1829\\n1079\\n1295\\n1213\\n1714\\n1992\\n1984\\n1951\\n1687\\n1842\\n1792\\n87\\n1732\\n428\\n1799\\n1850\\n1962\\n1629\\n1965\\n1142\\n1040\\n131\\n1844\\n1454\\n1779\\n1369\\n1960\\n1887\\n1725\\n1893\\n1465\\n1676\\n1826\\n1462\\n1408\\n1937\\n1643\\n1069\\n1759\"\n",
    "inputs = set(map(int, inputs.split()))"
   ]
  },
  {
   "cell_type": "code",
   "execution_count": 2,
   "metadata": {},
   "outputs": [],
   "source": [
    "from functools import reduce\n",
    "from itertools import combinations\n",
    "from operator import mul\n",
    "\n",
    "def solve(inputs: set[int], find: int=2020, slots: int=2) -> tuple[int, list[int]]:\n",
    "    \"\"\"\n",
    "    Solve Advent of Code Day 01\n",
    "    :param input: Set of integer inputs\n",
    "    :param find: Sum of combinations to find\n",
    "    :param slots: Length of combinations\n",
    "    :return: Product of combination, lists of combinations\n",
    "    \"\"\"\n",
    "    for items in combinations(inputs, slots):\n",
    "        if sum(items) != find:\n",
    "            continue\n",
    "        return reduce(mul, items), items"
   ]
  },
  {
   "cell_type": "code",
   "execution_count": 3,
   "metadata": {},
   "outputs": [
    {
     "data": {
      "text/plain": [
       "(910539, (679, 1341))"
      ]
     },
     "execution_count": 3,
     "metadata": {},
     "output_type": "execute_result"
    }
   ],
   "source": [
    "solve(inputs, 2020, 2)"
   ]
  },
  {
   "cell_type": "code",
   "execution_count": 4,
   "metadata": {},
   "outputs": [
    {
     "data": {
      "text/plain": [
       "(116724144, (131, 912, 977))"
      ]
     },
     "execution_count": 4,
     "metadata": {},
     "output_type": "execute_result"
    }
   ],
   "source": [
    "solve(inputs, 2020, 3)"
   ]
  }
 ],
 "metadata": {
  "kernelspec": {
   "display_name": "Python 3",
   "language": "python",
   "name": "python3"
  },
  "language_info": {
   "codemirror_mode": {
    "name": "ipython",
    "version": 3
   },
   "file_extension": ".py",
   "mimetype": "text/x-python",
   "name": "python",
   "nbconvert_exporter": "python",
   "pygments_lexer": "ipython3",
   "version": "3.9.0"
  }
 },
 "nbformat": 4,
 "nbformat_minor": 4
}
