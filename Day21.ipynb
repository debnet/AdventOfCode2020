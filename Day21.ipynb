{
 "cells": [
  {
   "cell_type": "code",
   "execution_count": 1,
   "metadata": {},
   "outputs": [],
   "source": [
    "with open('Day21.txt') as f:\n",
    "    inputs = f.readlines()"
   ]
  },
  {
   "cell_type": "code",
   "execution_count": 2,
   "metadata": {},
   "outputs": [],
   "source": [
    "from collections import Counter\n",
    "\n",
    "all_ingredients = set()\n",
    "possible_allergens = {}\n",
    "\n",
    "count_ingredients = Counter()\n",
    "count_allergens = Counter()\n",
    "\n",
    "for line in inputs:\n",
    "    ingredients, allergens = line.split(' (contains ')\n",
    "    ingredients = set(ingredients.strip().split())\n",
    "    allergens = set(allergens.strip()[:-1].split(', '))\n",
    "    all_ingredients = all_ingredients.union(ingredients)\n",
    "    count_ingredients.update(ingredients)\n",
    "    count_allergens.update(allergens)\n",
    "    for allergen in allergens:\n",
    "        if allergen in possible_allergens:\n",
    "            possible_allergens[allergen] = possible_allergens[allergen].intersection(ingredients)\n",
    "        else:\n",
    "            possible_allergens[allergen] = ingredients"
   ]
  },
  {
   "cell_type": "code",
   "execution_count": 3,
   "metadata": {},
   "outputs": [],
   "source": [
    "allergens = {}\n",
    "while len(allergens) < len(possible_allergens):\n",
    "    for allergen, ingredients in possible_allergens.items():\n",
    "        if len(ingredients) != 1:\n",
    "            continue\n",
    "        ingredient = next(iter(ingredients))\n",
    "        allergens[allergen] = ingredient\n",
    "        for other_allergen in possible_allergens:\n",
    "            if ingredient in possible_allergens[other_allergen]:\n",
    "                possible_allergens[other_allergen].remove(ingredient)\n",
    "safe_ingredients = all_ingredients.difference(allergens.values())"
   ]
  },
  {
   "cell_type": "code",
   "execution_count": 4,
   "metadata": {},
   "outputs": [
    {
     "data": {
      "text/plain": [
       "2315"
      ]
     },
     "execution_count": 4,
     "metadata": {},
     "output_type": "execute_result"
    }
   ],
   "source": [
    "sum(count for ingredient, count in count_ingredients.items() if ingredient in safe_ingredients)"
   ]
  },
  {
   "cell_type": "code",
   "execution_count": 5,
   "metadata": {},
   "outputs": [
    {
     "data": {
      "text/plain": [
       "'cfzdnz,htxsjf,ttbrlvd,bbbl,lmds,cbmjz,cmbcm,dvnbh'"
      ]
     },
     "execution_count": 5,
     "metadata": {},
     "output_type": "execute_result"
    }
   ],
   "source": [
    "','.join(allergens[allergen] for allergen in sorted(allergens))"
   ]
  }
 ],
 "metadata": {
  "kernelspec": {
   "display_name": "Python 3",
   "language": "python",
   "name": "python3"
  },
  "language_info": {
   "codemirror_mode": {
    "name": "ipython",
    "version": 3
   },
   "file_extension": ".py",
   "mimetype": "text/x-python",
   "name": "python",
   "nbconvert_exporter": "python",
   "pygments_lexer": "ipython3",
   "version": "3.9.1"
  }
 },
 "nbformat": 4,
 "nbformat_minor": 4
}
