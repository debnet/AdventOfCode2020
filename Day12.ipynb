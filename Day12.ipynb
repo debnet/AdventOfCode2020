{
 "cells": [
  {
   "cell_type": "code",
   "execution_count": 1,
   "metadata": {},
   "outputs": [],
   "source": [
    "with open('Day12.txt') as f:\n",
    "    inputs = f.read()\n",
    "inputs = [(i[0], int(i[1:])) for i in inputs.splitlines()]"
   ]
  },
  {
   "cell_type": "code",
   "execution_count": 2,
   "metadata": {},
   "outputs": [],
   "source": [
    "def get_distance(inputs):\n",
    "    posr, posl = 'NESW', 'NWSE'\n",
    "    orders = {\n",
    "        'N': lambda pos, val: (pos, +1 * val, +0 * val),\n",
    "        'S': lambda pos, val: (pos, -1 * val, +0 * val),\n",
    "        'E': lambda pos, val: (pos, +0 * val, +1 * val),\n",
    "        'W': lambda pos, val: (pos, +0 * val, -1 * val),\n",
    "        'F': lambda pos, val: orders[pos](pos, val),\n",
    "        'R': lambda pos, val: (posr[((posr.index(pos) * 90 + val) // 90) % 4], +0, +0),\n",
    "        'L': lambda pos, val: (posl[((posl.index(pos) * 90 + val) // 90) % 4], +0, +0),\n",
    "    }\n",
    "    pos = 'E'\n",
    "    lat, lng = 0, 0\n",
    "    for order, value in inputs:\n",
    "        pos, nlat, nlng = orders[order](pos, value)\n",
    "        lat += nlat\n",
    "        lng += nlng\n",
    "    return abs(lat) + abs(lng)"
   ]
  },
  {
   "cell_type": "code",
   "execution_count": 3,
   "metadata": {},
   "outputs": [
    {
     "data": {
      "text/plain": [
       "582"
      ]
     },
     "execution_count": 3,
     "metadata": {},
     "output_type": "execute_result"
    }
   ],
   "source": [
    "get_distance(inputs)"
   ]
  },
  {
   "cell_type": "code",
   "execution_count": 4,
   "metadata": {},
   "outputs": [],
   "source": [
    "import math\n",
    "\n",
    "def rotate(point, angle):\n",
    "    ox, oy = (0, 0)\n",
    "    px, py = point\n",
    "    angle = math.radians(angle)\n",
    "    qx = ox + math.cos(angle) * (px - ox) - math.sin(angle) * (py - oy)\n",
    "    qy = oy + math.sin(angle) * (px - ox) + math.cos(angle) * (py - oy)\n",
    "    return int(round(qx, 0)), int(round(qy, 0))"
   ]
  },
  {
   "cell_type": "code",
   "execution_count": 5,
   "metadata": {},
   "outputs": [],
   "source": [
    "def get_distance_2(inputs):\n",
    "    angles = {\n",
    "        'R': -1,\n",
    "        'L': +1\n",
    "    }\n",
    "    orders = {\n",
    "        'N': lambda val, lat, lng: (+1 * val, +0 * val, +0, +0),\n",
    "        'S': lambda val, lat, lng: (-1 * val, +0 * val, +0, +0),\n",
    "        'E': lambda val, lat, lng: (+0 * val, +1 * val, +0, +0),\n",
    "        'W': lambda val, lat, lng: (+0 * val, -1 * val, +0, +0),\n",
    "        'F': lambda val, lat, lng: (+0, +0, lat * val, lng * val),\n",
    "    }\n",
    "    wlat, wlng, lat, lng = 1, 10, 0, 0\n",
    "    for order, value in inputs:\n",
    "        if order in orders:\n",
    "            nwlat, nwlng, nlat, nlng = orders[order](value, wlat, wlng)\n",
    "            wlat += nwlat\n",
    "            wlng += nwlng\n",
    "            lat += nlat\n",
    "            lng += nlng\n",
    "        elif order in angles:\n",
    "            angle = value * angles[order]\n",
    "            wlng, wlat = rotate((wlng, wlat), angle)\n",
    "    return abs(lat) + abs(lng)"
   ]
  },
  {
   "cell_type": "code",
   "execution_count": 6,
   "metadata": {},
   "outputs": [
    {
     "data": {
      "text/plain": [
       "52069"
      ]
     },
     "execution_count": 6,
     "metadata": {},
     "output_type": "execute_result"
    }
   ],
   "source": [
    "get_distance_2(inputs)"
   ]
  }
 ],
 "metadata": {
  "kernelspec": {
   "display_name": "Python 3",
   "language": "python",
   "name": "python3"
  },
  "language_info": {
   "codemirror_mode": {
    "name": "ipython",
    "version": 3
   },
   "file_extension": ".py",
   "mimetype": "text/x-python",
   "name": "python",
   "nbconvert_exporter": "python",
   "pygments_lexer": "ipython3",
   "version": "3.9.0"
  }
 },
 "nbformat": 4,
 "nbformat_minor": 4
}
