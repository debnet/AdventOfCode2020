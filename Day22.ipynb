{
 "cells": [
  {
   "cell_type": "code",
   "execution_count": 1,
   "metadata": {},
   "outputs": [],
   "source": [
    "with open('Day22.txt') as f:\n",
    "    player1, player2 = f.read().split('\\n\\n')\n",
    "player1, player2 = (\n",
    "    list(map(int, player1.splitlines()[1:])), \n",
    "    list(map(int, player2.splitlines()[1:])))"
   ]
  },
  {
   "cell_type": "code",
   "execution_count": 2,
   "metadata": {},
   "outputs": [],
   "source": [
    "def play_combat(player1, player2):\n",
    "    player1, player2 = player1[:], player2[:]\n",
    "    while player1 and player2:\n",
    "        card1, card2 = player1.pop(0), player2.pop(0)\n",
    "        cards = sorted([card1, card2], reverse=True)\n",
    "        if card1 > card2:\n",
    "            player1.extend(cards)\n",
    "        elif card1 < card2:\n",
    "            player2.extend(cards)\n",
    "    return sum(\n",
    "        index * value for index, value in \n",
    "        enumerate(reversed(player1 or player2), start=1))"
   ]
  },
  {
   "cell_type": "code",
   "execution_count": 3,
   "metadata": {},
   "outputs": [
    {
     "name": "stdout",
     "output_type": "stream",
     "text": [
      "CPU times: user 101 µs, sys: 0 ns, total: 101 µs\n",
      "Wall time: 107 µs\n"
     ]
    },
    {
     "data": {
      "text/plain": [
       "34255"
      ]
     },
     "execution_count": 3,
     "metadata": {},
     "output_type": "execute_result"
    }
   ],
   "source": [
    "%time play_combat(player1, player2)"
   ]
  },
  {
   "cell_type": "code",
   "execution_count": 4,
   "metadata": {},
   "outputs": [],
   "source": [
    "def play_recursive_combat(player1, player2, depth=0):\n",
    "    player1, player2 = player1[:], player2[:]\n",
    "    drawn1, drawn2 = set(), set()\n",
    "    while player1 and player2:\n",
    "        if tuple(player1) in drawn1 or tuple(player2) in drawn2:\n",
    "            player2.clear()  # Not fair!\n",
    "            break\n",
    "        drawn1.add(tuple(player1))\n",
    "        drawn2.add(tuple(player2))\n",
    "        card1, card2 = player1.pop(0), player2.pop(0)\n",
    "        if card1 <= len(player1) and card2 <= len(player2):\n",
    "            winner = play_recursive_combat(player1[:card1], player2[:card2], depth+1)\n",
    "        else:\n",
    "            winner = 1 if card1 > card2 else 2\n",
    "        if winner == 1:\n",
    "            player1.extend([card1, card2])\n",
    "        else:\n",
    "            player2.extend([card2, card1])\n",
    "    if depth:\n",
    "        return 1 if len(player1) > len(player2) else 2\n",
    "    return sum(\n",
    "        index * value for index, value in \n",
    "        enumerate(reversed(player1 or player2), start=1))"
   ]
  },
  {
   "cell_type": "code",
   "execution_count": 5,
   "metadata": {},
   "outputs": [
    {
     "name": "stdout",
     "output_type": "stream",
     "text": [
      "CPU times: user 334 ms, sys: 4.6 ms, total: 338 ms\n",
      "Wall time: 339 ms\n"
     ]
    },
    {
     "data": {
      "text/plain": [
       "33369"
      ]
     },
     "execution_count": 5,
     "metadata": {},
     "output_type": "execute_result"
    }
   ],
   "source": [
    "%time play_recursive_combat(player1, player2)"
   ]
  }
 ],
 "metadata": {
  "kernelspec": {
   "display_name": "Python 3",
   "language": "python",
   "name": "python3"
  },
  "language_info": {
   "codemirror_mode": {
    "name": "ipython",
    "version": 3
   },
   "file_extension": ".py",
   "mimetype": "text/x-python",
   "name": "python",
   "nbconvert_exporter": "python",
   "pygments_lexer": "ipython3",
   "version": "3.9.1"
  }
 },
 "nbformat": 4,
 "nbformat_minor": 4
}
