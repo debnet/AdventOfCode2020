{
 "cells": [
  {
   "cell_type": "code",
   "execution_count": 1,
   "metadata": {},
   "outputs": [],
   "source": [
    "with open('Day11.txt') as f:\n",
    "    inputs = f.read()"
   ]
  },
  {
   "cell_type": "code",
   "execution_count": 2,
   "metadata": {},
   "outputs": [
    {
     "data": {
      "text/plain": [
       "(91, 94)"
      ]
     },
     "execution_count": 2,
     "metadata": {},
     "output_type": "execute_result"
    }
   ],
   "source": [
    "seats = {}\n",
    "height, width = 0, 0\n",
    "for row, line in enumerate(inputs.splitlines()):\n",
    "    height += 1\n",
    "    width = max(len(line), width)\n",
    "    for col, value in enumerate(line):\n",
    "        if value == '.':\n",
    "            continue\n",
    "        seats[row, col] = (value == '#')\n",
    "(height, width)"
   ]
  },
  {
   "cell_type": "code",
   "execution_count": 3,
   "metadata": {},
   "outputs": [],
   "source": [
    "def print_grid(data):\n",
    "    for row in range(height):\n",
    "        for col in range(width):\n",
    "            value = {True: '#', False: 'L'}.get(data.get((row, col)), '.')\n",
    "            print(value, end='')\n",
    "        print()"
   ]
  },
  {
   "cell_type": "code",
   "execution_count": 4,
   "metadata": {},
   "outputs": [],
   "source": [
    "def find_stable(data, rule, display=False):\n",
    "    loops = 0\n",
    "    previous = data.copy()\n",
    "    while True:\n",
    "        current = {coords: rule(previous, coords) for coords in previous}\n",
    "        loops += 1\n",
    "        if display:\n",
    "            print(\"Loop:\", loops)\n",
    "            print_grid(current)\n",
    "            print()\n",
    "        if current == previous:\n",
    "            return loops, sum(current.values())\n",
    "        previous = current"
   ]
  },
  {
   "cell_type": "code",
   "execution_count": 5,
   "metadata": {},
   "outputs": [],
   "source": [
    "shifts = ((+1, +1), (+1, +0), (+1, -1), (+0, +1), (+0, -1), (-1, +1), (-1, +0), (-1, -1))"
   ]
  },
  {
   "cell_type": "code",
   "execution_count": 6,
   "metadata": {},
   "outputs": [],
   "source": [
    "def rule1(data, coords):\n",
    "    row, col = coords\n",
    "    value = data[row, col]\n",
    "    neighbours = 0\n",
    "    for shift_row, shift_col in shifts:\n",
    "        i, j = row + shift_row, col + shift_col\n",
    "        if (i, j) in data:\n",
    "            neighbours += data[i, j]\n",
    "    return (not value and not neighbours) or (value and neighbours < 4)"
   ]
  },
  {
   "cell_type": "code",
   "execution_count": 7,
   "metadata": {},
   "outputs": [
    {
     "name": "stdout",
     "output_type": "stream",
     "text": [
      "CPU times: user 1.27 s, sys: 952 µs, total: 1.27 s\n",
      "Wall time: 1.28 s\n"
     ]
    },
    {
     "data": {
      "text/plain": [
       "(87, 2178)"
      ]
     },
     "execution_count": 7,
     "metadata": {},
     "output_type": "execute_result"
    }
   ],
   "source": [
    "%time find_stable(seats, rule=rule1)"
   ]
  },
  {
   "cell_type": "code",
   "execution_count": 8,
   "metadata": {},
   "outputs": [],
   "source": [
    "def rule2(data, coords):\n",
    "    row, col = coords\n",
    "    value = data[row, col]\n",
    "    neighbours = 0\n",
    "    for shift_row, shift_col in shifts:\n",
    "        i, j = row + shift_row, col + shift_col\n",
    "        while i >= 0 and j >= 0 and i < height and j < width:\n",
    "            if (i, j) in data:\n",
    "                neighbours += data[i, j]\n",
    "                break\n",
    "            i, j = i + shift_row, j + shift_col\n",
    "    return (not value and not neighbours) or (value and neighbours < 5)"
   ]
  },
  {
   "cell_type": "code",
   "execution_count": 9,
   "metadata": {},
   "outputs": [
    {
     "name": "stdout",
     "output_type": "stream",
     "text": [
      "CPU times: user 1.75 s, sys: 763 µs, total: 1.75 s\n",
      "Wall time: 1.75 s\n"
     ]
    },
    {
     "data": {
      "text/plain": [
       "(84, 1978)"
      ]
     },
     "execution_count": 9,
     "metadata": {},
     "output_type": "execute_result"
    }
   ],
   "source": [
    "%time find_stable(seats, rule=rule2)"
   ]
  }
 ],
 "metadata": {
  "kernelspec": {
   "display_name": "Python 3",
   "language": "python",
   "name": "python3"
  },
  "language_info": {
   "codemirror_mode": {
    "name": "ipython",
    "version": 3
   },
   "file_extension": ".py",
   "mimetype": "text/x-python",
   "name": "python",
   "nbconvert_exporter": "python",
   "pygments_lexer": "ipython3",
   "version": "3.9.0"
  }
 },
 "nbformat": 4,
 "nbformat_minor": 4
}
