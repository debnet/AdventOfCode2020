{
 "cells": [
  {
   "cell_type": "code",
   "execution_count": 1,
   "metadata": {},
   "outputs": [],
   "source": [
    "with open('Day10.txt') as f:\n",
    "    inputs = f.read()\n",
    "inputs = list(map(int, inputs.splitlines()))"
   ]
  },
  {
   "cell_type": "code",
   "execution_count": 2,
   "metadata": {},
   "outputs": [],
   "source": [
    "def find_joltage(inputs):\n",
    "    adapters = sorted(inputs)\n",
    "    adapters.append(adapters[-1] + 3)\n",
    "    diffs = {0: 0, 1: 0, 3: 0}\n",
    "    jolt = 0\n",
    "    for adapter in adapters:\n",
    "        diffs[adapter - jolt] += 1\n",
    "        jolt = adapter\n",
    "    return diffs[1] * diffs[3]"
   ]
  },
  {
   "cell_type": "code",
   "execution_count": 3,
   "metadata": {},
   "outputs": [
    {
     "data": {
      "text/plain": [
       "2343"
      ]
     },
     "execution_count": 3,
     "metadata": {},
     "output_type": "execute_result"
    }
   ],
   "source": [
    "find_joltage(inputs)"
   ]
  },
  {
   "cell_type": "code",
   "execution_count": 4,
   "metadata": {},
   "outputs": [],
   "source": [
    "from collections import Counter\n",
    "\n",
    "def find_combinations(inputs):\n",
    "    adapters = sorted(inputs)\n",
    "    adapters.append(adapters[-1] + 3)\n",
    "    counter = Counter()\n",
    "    counter[0] = 1\n",
    "    for adapter in adapters:\n",
    "        counter[adapter] = counter[adapter - 1] + counter[adapter - 2] + counter[adapter - 3]\n",
    "    return counter[adapters[-1]]"
   ]
  },
  {
   "cell_type": "code",
   "execution_count": 5,
   "metadata": {},
   "outputs": [
    {
     "data": {
      "text/plain": [
       "31581162962944"
      ]
     },
     "execution_count": 5,
     "metadata": {},
     "output_type": "execute_result"
    }
   ],
   "source": [
    "find_combinations(inputs)"
   ]
  }
 ],
 "metadata": {
  "kernelspec": {
   "display_name": "Python 3",
   "language": "python",
   "name": "python3"
  },
  "language_info": {
   "codemirror_mode": {
    "name": "ipython",
    "version": 3
   },
   "file_extension": ".py",
   "mimetype": "text/x-python",
   "name": "python",
   "nbconvert_exporter": "python",
   "pygments_lexer": "ipython3",
   "version": "3.9.0"
  }
 },
 "nbformat": 4,
 "nbformat_minor": 4
}
