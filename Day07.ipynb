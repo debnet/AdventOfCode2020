{
 "cells": [
  {
   "cell_type": "code",
   "execution_count": 1,
   "metadata": {},
   "outputs": [],
   "source": [
    "with open('Day07.txt') as f:\n",
    "    inputs = f.read()\n",
    "inputs = inputs.splitlines()"
   ]
  },
  {
   "cell_type": "code",
   "execution_count": 2,
   "metadata": {},
   "outputs": [],
   "source": [
    "import re\n",
    "\n",
    "line_regex = re.compile(r'(?P<color>\\w+ \\w+) bags contain (?P<bags>[^\\..]+)\\.')\n",
    "bags_regex = re.compile(r'(?P<number>\\d+) (?P<color>\\w+ \\w+) bags?')\n",
    "\n",
    "bags = {}\n",
    "for line in inputs:\n",
    "    color, subline = line_regex.match(line).groups()\n",
    "    bags[color] = subbags = {}\n",
    "    for count, subcolor in bags_regex.findall(subline):\n",
    "        subbags[subcolor] = int(count)"
   ]
  },
  {
   "cell_type": "code",
   "execution_count": 3,
   "metadata": {},
   "outputs": [],
   "source": [
    "def solve(color, only_colors=False, only_counts=False):\n",
    "    colors = set()\n",
    "    counts = 0\n",
    "    for color, count in bags.get(color).items():\n",
    "        subcolors, subcounts = solve(color)\n",
    "        counts += count + (subcounts * count)\n",
    "        colors.add(color)\n",
    "        colors.update(subcolors)\n",
    "    if only_colors:\n",
    "        return colors\n",
    "    if only_counts:\n",
    "        return counts\n",
    "    return colors, counts"
   ]
  },
  {
   "cell_type": "code",
   "execution_count": 4,
   "metadata": {},
   "outputs": [
    {
     "data": {
      "text/plain": [
       "192"
      ]
     },
     "execution_count": 4,
     "metadata": {},
     "output_type": "execute_result"
    }
   ],
   "source": [
    "sum('shiny gold' in solve(color, only_colors=True) for color in bags)"
   ]
  },
  {
   "cell_type": "code",
   "execution_count": 5,
   "metadata": {},
   "outputs": [
    {
     "data": {
      "text/plain": [
       "12128"
      ]
     },
     "execution_count": 5,
     "metadata": {},
     "output_type": "execute_result"
    }
   ],
   "source": [
    "solve('shiny gold', only_counts=True)"
   ]
  }
 ],
 "metadata": {
  "kernelspec": {
   "display_name": "Python 3",
   "language": "python",
   "name": "python3"
  },
  "language_info": {
   "codemirror_mode": {
    "name": "ipython",
    "version": 3
   },
   "file_extension": ".py",
   "mimetype": "text/x-python",
   "name": "python",
   "nbconvert_exporter": "python",
   "pygments_lexer": "ipython3",
   "version": "3.9.0"
  }
 },
 "nbformat": 4,
 "nbformat_minor": 4
}
