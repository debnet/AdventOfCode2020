{
 "cells": [
  {
   "cell_type": "code",
   "execution_count": 1,
   "metadata": {},
   "outputs": [],
   "source": [
    "with open('Day20.txt') as f:\n",
    "    inputs = f.read().split('\\n\\n')"
   ]
  },
  {
   "cell_type": "code",
   "execution_count": 2,
   "metadata": {},
   "outputs": [],
   "source": [
    "import numpy as np\n",
    "\n",
    "def get_combinations(tile):\n",
    "    for n in range(4):\n",
    "        yield np.rot90(tile, k=n)\n",
    "    for n in range(4):\n",
    "        yield np.rot90(np.fliplr(tile), k=n)\n",
    "\n",
    "class Tile:\n",
    "    def __init__(self, number, origin):\n",
    "        self.number = number\n",
    "        self.origin = origin\n",
    "        self.choice = None\n",
    "        self.combinations = list(get_combinations(origin))\n",
    "        self.borders = {\n",
    "            tuple(combination[0,:].tolist()[0]): 0\n",
    "            for combination in self.combinations}\n",
    "    \n",
    "    def __repr__(self):\n",
    "        if self.choice is not None:\n",
    "            return f\"<Tile #{self.number}:{self.choice}>\"\n",
    "        return f\"<Tile #{self.number}>\"\n",
    "    \n",
    "    def __hash__(self):\n",
    "        return self.number\n",
    "    \n",
    "    def check(self, top=None, lft=None):\n",
    "        for index, combination in enumerate(self.combinations):\n",
    "            if not top and not lft:\n",
    "                col = tuple(combination[:,0].flatten().tolist()[0])\n",
    "                row = tuple(combination[0,:].flatten().tolist()[0])\n",
    "                if self.borders[col] == self.borders[row] == 0:\n",
    "                    self.choice = index\n",
    "                    return self\n",
    "            else:\n",
    "                vtop = (not top or (top.matrix[-1,:] == combination[0,:]).all())\n",
    "                vlft = (not lft or (lft.matrix[:,-1] == combination[:,0]).all())\n",
    "                if vtop and vlft:\n",
    "                    self.choice = index\n",
    "                    return self\n",
    "    \n",
    "    @property\n",
    "    def matrix(self):\n",
    "        if self.choice:\n",
    "            return self.combinations[self.choice]\n",
    "        return self.origin\n",
    "    \n",
    "    @classmethod\n",
    "    def parse(cls, raw):\n",
    "        lines = raw.replace('#', '1').replace('.', '0').split('\\n')\n",
    "        number = int(lines.pop(0).split()[1][:-1])\n",
    "        origin = np.matrix(';'.join(','.join(line) for line in lines))\n",
    "        return cls(number, origin)\n",
    "    \n",
    "    @staticmethod\n",
    "    def count_borders(tiles):\n",
    "        for tile in tiles.values():\n",
    "            for other in tiles.values():\n",
    "                if tile == other:\n",
    "                    continue\n",
    "                for border in other.borders:\n",
    "                    if border not in tile.borders:\n",
    "                        continue\n",
    "                    tile.borders[border] += 1\n",
    "        return {\n",
    "            tile.number: sum(tile.borders.values()) \n",
    "            for tile in tiles.values()}"
   ]
  },
  {
   "cell_type": "code",
   "execution_count": 3,
   "metadata": {},
   "outputs": [],
   "source": [
    "tiles = {}\n",
    "for block in inputs:\n",
    "    tile = Tile.parse(block)\n",
    "    tiles[tile.number] = tile"
   ]
  },
  {
   "cell_type": "code",
   "execution_count": 4,
   "metadata": {},
   "outputs": [
    {
     "name": "stdout",
     "output_type": "stream",
     "text": [
      "CPU times: user 37.7 ms, sys: 891 µs, total: 38.6 ms\n",
      "Wall time: 37.8 ms\n"
     ]
    },
    {
     "data": {
      "text/plain": [
       "64802175715999"
      ]
     },
     "execution_count": 4,
     "metadata": {},
     "output_type": "execute_result"
    }
   ],
   "source": [
    "%%time\n",
    "from functools import reduce\n",
    "from operator import mul, itemgetter\n",
    "\n",
    "borders = sorted(Tile.count_borders(tiles).items(), key=lambda e: e[1])[:4]\n",
    "reduce(mul, map(itemgetter(0), borders))"
   ]
  },
  {
   "cell_type": "code",
   "execution_count": 5,
   "metadata": {},
   "outputs": [
    {
     "name": "stdout",
     "output_type": "stream",
     "text": [
      "CPU times: user 1.44 s, sys: 0 ns, total: 1.44 s\n",
      "Wall time: 1.44 s\n"
     ]
    }
   ],
   "source": [
    "%%time\n",
    "import math\n",
    "puzzle = {}\n",
    "pieces = set(tiles.keys())\n",
    "size = int(math.sqrt(len(tiles)))\n",
    "for row in range(size):\n",
    "    for col in range(size):\n",
    "        top_tile = puzzle.get((row - 1, col))\n",
    "        lft_tile = puzzle.get((row, col - 1))\n",
    "        for piece in pieces:\n",
    "            tile = tiles[piece]\n",
    "            if tile.check(top=top_tile, lft=lft_tile):\n",
    "                puzzle[row, col] = tile\n",
    "                pieces.remove(tile.number)\n",
    "                break\n",
    "full = np.bmat([[puzzle[col, row].matrix[1:-1,1:-1] for row in range(size)] for col in range(size)])"
   ]
  },
  {
   "cell_type": "code",
   "execution_count": 6,
   "metadata": {},
   "outputs": [],
   "source": [
    "monster = \"\"\"                  # \n",
    "#    ##    ##    ###\n",
    " #  #  #  #  #  #   \"\"\"\n",
    "monster = np.matrix(monster.replace(' ', '9,').replace('#', '1,').replace(',\\n', ';'))\n",
    "monster_count = np.count_nonzero(monster < 9)"
   ]
  },
  {
   "cell_type": "code",
   "execution_count": 7,
   "metadata": {},
   "outputs": [],
   "source": [
    "def find_monsters(full):\n",
    "    frows, fcols = full.shape\n",
    "    mrows, mcols = monster.shape\n",
    "    monsters = 0\n",
    "    for row in range(frows - mrows):\n",
    "        for col in range(fcols - mcols):\n",
    "            tile = full[row:row+mrows,col:col+mcols]\n",
    "            if np.count_nonzero(tile == monster) == monster_count:\n",
    "                monsters += 1\n",
    "                np.place(tile, monster < 9, 2)\n",
    "    return monsters, np.count_nonzero(full == 1)"
   ]
  },
  {
   "cell_type": "code",
   "execution_count": 8,
   "metadata": {},
   "outputs": [
    {
     "name": "stdout",
     "output_type": "stream",
     "text": [
      "CPU times: user 218 ms, sys: 265 µs, total: 218 ms\n",
      "Wall time: 217 ms\n"
     ]
    },
    {
     "data": {
      "text/plain": [
       "(35, 2146)"
      ]
     },
     "execution_count": 8,
     "metadata": {},
     "output_type": "execute_result"
    }
   ],
   "source": [
    "%%time\n",
    "for combination in get_combinations(full):\n",
    "    monsters, safes = find_monsters(combination)\n",
    "    if monsters:\n",
    "        break\n",
    "monsters, safes"
   ]
  }
 ],
 "metadata": {
  "kernelspec": {
   "display_name": "Python 3",
   "language": "python",
   "name": "python3"
  },
  "language_info": {
   "codemirror_mode": {
    "name": "ipython",
    "version": 3
   },
   "file_extension": ".py",
   "mimetype": "text/x-python",
   "name": "python",
   "nbconvert_exporter": "python",
   "pygments_lexer": "ipython3",
   "version": "3.9.1"
  }
 },
 "nbformat": 4,
 "nbformat_minor": 4
}
