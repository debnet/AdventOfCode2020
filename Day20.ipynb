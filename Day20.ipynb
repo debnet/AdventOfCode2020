{
 "cells": [
  {
   "cell_type": "code",
   "execution_count": 1,
   "metadata": {},
   "outputs": [],
   "source": [
    "with open('Day20.txt') as f:\n",
    "    inputs = f.read().split('\\n\\n')"
   ]
  },
  {
   "cell_type": "code",
   "execution_count": 2,
   "metadata": {},
   "outputs": [],
   "source": [
    "import numpy as np\n",
    "\n",
    "class Tile:\n",
    "    def __init__(self, number, matrix):\n",
    "        self.number = number\n",
    "        self.matrix = matrix\n",
    "        self.choice = None\n",
    "        self.combinations = [\n",
    "            *[np.rot90(self.matrix, k=n) for n in range(4)],\n",
    "            *[np.rot90(np.fliplr(self.matrix), k=n) for n in range(4)]]\n",
    "        self.borders = {\n",
    "            tuple(combination[0,:].tolist()[0]): 0\n",
    "            for combination in self.combinations}\n",
    "    \n",
    "    def __repr__(self):\n",
    "        if self.choice:\n",
    "            return f\"<Tile #{self.number}:{self.choice}>\"\n",
    "        return f\"<Tile #{self.number}>\"\n",
    "    \n",
    "    def __hash__(self):\n",
    "        return self.number\n",
    "    \n",
    "    def get(self, choice=None):\n",
    "        if choice or self.choice:\n",
    "            return self.combinations[choice or self.choice]\n",
    "        return self.matrix\n",
    "    \n",
    "    @property\n",
    "    def value(self):\n",
    "        return self.get()\n",
    "    \n",
    "    @classmethod\n",
    "    def parse(cls, raw):\n",
    "        lines = raw.replace('#', '1').replace('.', '0').split('\\n')\n",
    "        number = int(lines.pop(0).split()[1][:-1])\n",
    "        matrix = np.matrix(';'.join(','.join(line) for line in lines))\n",
    "        return cls(number, matrix)"
   ]
  },
  {
   "cell_type": "code",
   "execution_count": 3,
   "metadata": {},
   "outputs": [],
   "source": [
    "tiles = {}\n",
    "for block in inputs:\n",
    "    tile = Tile.parse(block)\n",
    "    tiles[tile.number] = tile"
   ]
  },
  {
   "cell_type": "code",
   "execution_count": 4,
   "metadata": {},
   "outputs": [],
   "source": [
    "def count_common_borders(tiles):\n",
    "    for tile in tiles.values():\n",
    "        for other in tiles.values():\n",
    "            if tile == other:\n",
    "                continue\n",
    "            for border in other.borders:\n",
    "                if border not in tile.borders:\n",
    "                    continue\n",
    "                tile.borders[border] += 1\n",
    "    return {tile.number: sum(tile.borders.values()) for tile in tiles.values()}"
   ]
  },
  {
   "cell_type": "code",
   "execution_count": 5,
   "metadata": {},
   "outputs": [
    {
     "data": {
      "text/plain": [
       "64802175715999"
      ]
     },
     "execution_count": 5,
     "metadata": {},
     "output_type": "execute_result"
    }
   ],
   "source": [
    "from functools import reduce\n",
    "from operator import mul, itemgetter\n",
    "\n",
    "borders = sorted(count_common_borders(tiles).items(), key=lambda e: e[1])[:4]\n",
    "reduce(mul, map(itemgetter(0), borders))"
   ]
  }
 ],
 "metadata": {
  "kernelspec": {
   "display_name": "Python 3",
   "language": "python",
   "name": "python3"
  },
  "language_info": {
   "codemirror_mode": {
    "name": "ipython",
    "version": 3
   },
   "file_extension": ".py",
   "mimetype": "text/x-python",
   "name": "python",
   "nbconvert_exporter": "python",
   "pygments_lexer": "ipython3",
   "version": "3.9.1"
  }
 },
 "nbformat": 4,
 "nbformat_minor": 4
}
