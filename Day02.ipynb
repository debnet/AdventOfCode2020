{
 "cells": [
  {
   "cell_type": "code",
   "execution_count": 1,
   "metadata": {},
   "outputs": [],
   "source": [
    "with open('Day02.txt') as f:\n",
    "    inputs = f.read()"
   ]
  },
  {
   "cell_type": "code",
   "execution_count": 2,
   "metadata": {},
   "outputs": [],
   "source": [
    "import re\n",
    "from dataclasses import dataclass\n",
    "\n",
    "\n",
    "@dataclass\n",
    "class Password:\n",
    "    mini: int\n",
    "    maxi: int\n",
    "    letter: str\n",
    "    password: str\n",
    "    \n",
    "    @property\n",
    "    def valid_count(self) -> bool:\n",
    "        return int(self.mini) <= self.password.count(self.letter) <= int(self.maxi)\n",
    "    \n",
    "    @property\n",
    "    def valid_position(self) -> bool:\n",
    "        a: str = self.password[int(self.mini) - 1]\n",
    "        b: str = self.password[int(self.maxi) - 1]\n",
    "        return (a == self.letter) ^ (b == self.letter)\n",
    "\n",
    "\n",
    "password_regex = re.compile(r'(?P<mini>\\d+)-(?P<maxi>\\d+) (?P<letter>\\w): (?P<password>\\w+)')\n",
    "passwords = [Password(*password_regex.match(line).groups()) for line in inputs.split('\\n')]"
   ]
  },
  {
   "cell_type": "code",
   "execution_count": 3,
   "metadata": {},
   "outputs": [
    {
     "data": {
      "text/plain": [
       "465"
      ]
     },
     "execution_count": 3,
     "metadata": {},
     "output_type": "execute_result"
    }
   ],
   "source": [
    "sum(password.valid_count for password in passwords)"
   ]
  },
  {
   "cell_type": "code",
   "execution_count": 4,
   "metadata": {},
   "outputs": [
    {
     "data": {
      "text/plain": [
       "294"
      ]
     },
     "execution_count": 4,
     "metadata": {},
     "output_type": "execute_result"
    }
   ],
   "source": [
    "sum(password.valid_position for password in passwords)"
   ]
  }
 ],
 "metadata": {
  "kernelspec": {
   "display_name": "Python 3",
   "language": "python",
   "name": "python3"
  },
  "language_info": {
   "codemirror_mode": {
    "name": "ipython",
    "version": 3
   },
   "file_extension": ".py",
   "mimetype": "text/x-python",
   "name": "python",
   "nbconvert_exporter": "python",
   "pygments_lexer": "ipython3",
   "version": "3.9.0"
  }
 },
 "nbformat": 4,
 "nbformat_minor": 4
}
