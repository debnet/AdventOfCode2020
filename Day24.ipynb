{
 "cells": [
  {
   "cell_type": "code",
   "execution_count": 1,
   "metadata": {},
   "outputs": [],
   "source": [
    "with open('Day24.txt') as f:\n",
    "    inputs = f.read().split()"
   ]
  },
  {
   "cell_type": "code",
   "execution_count": 2,
   "metadata": {},
   "outputs": [],
   "source": [
    "directions = {\n",
    "    'e': (2, 0),\n",
    "    'ne': (1, -1),\n",
    "    'se': (1, 1),\n",
    "    'w': (-2, 0),\n",
    "    'nw': (-1, -1),\n",
    "    'sw': (-1, 1),\n",
    "}"
   ]
  },
  {
   "cell_type": "code",
   "execution_count": 3,
   "metadata": {},
   "outputs": [],
   "source": [
    "def parse(line):\n",
    "    results = []\n",
    "    while line:\n",
    "        for direction in directions:\n",
    "            if not line.startswith(direction):\n",
    "                continue\n",
    "            results.append(direction)\n",
    "            line = line[len(direction):]\n",
    "            break\n",
    "    return results"
   ]
  },
  {
   "cell_type": "code",
   "execution_count": 4,
   "metadata": {},
   "outputs": [],
   "source": [
    "tiles = [parse(line) for line in inputs]"
   ]
  },
  {
   "cell_type": "code",
   "execution_count": 5,
   "metadata": {},
   "outputs": [],
   "source": [
    "def tile_colors(tiles):\n",
    "    results = {}\n",
    "    for tile in tiles:\n",
    "        x, y = 0, 0\n",
    "        for direction in tile:\n",
    "            dx, dy = directions[direction]\n",
    "            x += dx\n",
    "            y += dy\n",
    "        results[x, y] = (results.get((x, y), 0) + 1) % 2\n",
    "    return results"
   ]
  },
  {
   "cell_type": "code",
   "execution_count": 6,
   "metadata": {},
   "outputs": [
    {
     "data": {
      "text/plain": [
       "549"
      ]
     },
     "execution_count": 6,
     "metadata": {},
     "output_type": "execute_result"
    }
   ],
   "source": [
    "colors = tile_colors(tiles)\n",
    "sum(colors.values())"
   ]
  },
  {
   "cell_type": "code",
   "execution_count": 7,
   "metadata": {},
   "outputs": [],
   "source": [
    "def get_neighbours(tiles, coords):\n",
    "    x, y = coords\n",
    "    count = 0\n",
    "    for (dx, dy) in directions.values():\n",
    "        count += tiles.get((x + dx, y + dy), 0)\n",
    "    return count"
   ]
  },
  {
   "cell_type": "code",
   "execution_count": 8,
   "metadata": {},
   "outputs": [],
   "source": [
    "def cycle(tiles):\n",
    "    colors = {}\n",
    "    for tile, color in tiles.items():\n",
    "        colors[tile] = color\n",
    "        if not color:\n",
    "            continue\n",
    "        x, y = tile\n",
    "        for dx, dy in directions.values():\n",
    "            colors.setdefault((x + dx, y + dy), 0)\n",
    "    tiles = colors.copy()\n",
    "    for tile, color in tiles.items():\n",
    "        neighbours = get_neighbours(tiles, tile)\n",
    "        if color and (neighbours == 0 or neighbours > 2):\n",
    "            colors[tile] = 0\n",
    "        elif not color and neighbours == 2:\n",
    "            colors[tile] = 1\n",
    "    return colors"
   ]
  },
  {
   "cell_type": "code",
   "execution_count": 9,
   "metadata": {},
   "outputs": [
    {
     "data": {
      "text/plain": [
       "4147"
      ]
     },
     "execution_count": 9,
     "metadata": {},
     "output_type": "execute_result"
    }
   ],
   "source": [
    "tiles = colors.copy()\n",
    "for i in range(100):\n",
    "    tiles = cycle(tiles)\n",
    "sum(tiles.values())"
   ]
  }
 ],
 "metadata": {
  "kernelspec": {
   "display_name": "Python 3",
   "language": "python",
   "name": "python3"
  },
  "language_info": {
   "codemirror_mode": {
    "name": "ipython",
    "version": 3
   },
   "file_extension": ".py",
   "mimetype": "text/x-python",
   "name": "python",
   "nbconvert_exporter": "python",
   "pygments_lexer": "ipython3",
   "version": "3.9.1"
  }
 },
 "nbformat": 4,
 "nbformat_minor": 4
}
