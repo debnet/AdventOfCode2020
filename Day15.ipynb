{
 "cells": [
  {
   "cell_type": "code",
   "execution_count": 1,
   "metadata": {},
   "outputs": [],
   "source": [
    "with open('Day15.txt') as f:\n",
    "    inputs = list(map(int, f.read().split(',')))"
   ]
  },
  {
   "cell_type": "code",
   "execution_count": 2,
   "metadata": {},
   "outputs": [],
   "source": [
    "def solve(inputs, stop=2020):\n",
    "    occurences = {inputs[i - 1]:[i] for i in range(1, len(inputs) + 1)}\n",
    "    current = inputs[-1]\n",
    "    for i in range(len(inputs) + 1, stop + 1):\n",
    "        if len(occurences[current]) == 1:\n",
    "            current = 0\n",
    "            if len(occurences[0]) == 2:\n",
    "                occurences[0].remove(occurences[0][0])\n",
    "            occurences[0].append(i)\n",
    "        else:\n",
    "            new = occurences[current][1] - occurences[current][0]\n",
    "            if new in occurences:\n",
    "                if len(occurences[new]) == 2:\n",
    "                    occurences[new].remove(occurences[new][0])\n",
    "                occurences[new].append(i)\n",
    "            else:\n",
    "                occurences[new] = [i]\n",
    "            current = new\n",
    "    return current"
   ]
  },
  {
   "cell_type": "code",
   "execution_count": 3,
   "metadata": {},
   "outputs": [
    {
     "name": "stdout",
     "output_type": "stream",
     "text": [
      "CPU times: user 990 µs, sys: 0 ns, total: 990 µs\n",
      "Wall time: 997 µs\n"
     ]
    },
    {
     "data": {
      "text/plain": [
       "614"
      ]
     },
     "execution_count": 3,
     "metadata": {},
     "output_type": "execute_result"
    }
   ],
   "source": [
    "%time solve(inputs, 2020)"
   ]
  },
  {
   "cell_type": "code",
   "execution_count": 4,
   "metadata": {},
   "outputs": [
    {
     "name": "stdout",
     "output_type": "stream",
     "text": [
      "CPU times: user 26.2 s, sys: 344 ms, total: 26.5 s\n",
      "Wall time: 26.6 s\n"
     ]
    },
    {
     "data": {
      "text/plain": [
       "1065"
      ]
     },
     "execution_count": 4,
     "metadata": {},
     "output_type": "execute_result"
    }
   ],
   "source": [
    "%time solve(inputs, 30000000)"
   ]
  }
 ],
 "metadata": {
  "kernelspec": {
   "display_name": "Python 3",
   "language": "python",
   "name": "python3"
  },
  "language_info": {
   "codemirror_mode": {
    "name": "ipython",
    "version": 3
   },
   "file_extension": ".py",
   "mimetype": "text/x-python",
   "name": "python",
   "nbconvert_exporter": "python",
   "pygments_lexer": "ipython3",
   "version": "3.9.0"
  }
 },
 "nbformat": 4,
 "nbformat_minor": 4
}
