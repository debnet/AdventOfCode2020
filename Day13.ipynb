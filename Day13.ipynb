{
 "cells": [
  {
   "cell_type": "code",
   "execution_count": 1,
   "metadata": {},
   "outputs": [],
   "source": [
    "with open('Day13.txt') as f:\n",
    "    inputs = f.read()\n",
    "timestamp, buses = inputs.splitlines()\n",
    "timestamp = int(timestamp)\n",
    "buses = buses.split(',')\n",
    "buses = [(int(bus), buses.index(bus)) for bus in buses if bus != 'x']"
   ]
  },
  {
   "cell_type": "code",
   "execution_count": 2,
   "metadata": {},
   "outputs": [],
   "source": [
    "import math\n",
    "from operator import itemgetter\n",
    "\n",
    "def solve1(timestamp, buses):\n",
    "    timestamps = sorted(\n",
    "        ((bus_id, math.ceil(timestamp / bus_id) * bus_id) for bus_id, bus_shift in buses), \n",
    "        key=itemgetter(1))\n",
    "    bus_id, bus_time = timestamps[0]\n",
    "    return (bus_time - timestamp) * bus_id"
   ]
  },
  {
   "cell_type": "code",
   "execution_count": 3,
   "metadata": {},
   "outputs": [
    {
     "data": {
      "text/plain": [
       "104"
      ]
     },
     "execution_count": 3,
     "metadata": {},
     "output_type": "execute_result"
    }
   ],
   "source": [
    "solve1(timestamp, buses)"
   ]
  },
  {
   "cell_type": "code",
   "execution_count": 4,
   "metadata": {},
   "outputs": [],
   "source": [
    "def solve2(buses):\n",
    "    index = jump = buses[0][0]\n",
    "    for bus_id, bus_shift in buses[1:]:\n",
    "        while (index + bus_shift) % bus_id != 0:\n",
    "            index += jump\n",
    "        jump *= bus_id\n",
    "    return index"
   ]
  },
  {
   "cell_type": "code",
   "execution_count": 5,
   "metadata": {},
   "outputs": [
    {
     "data": {
      "text/plain": [
       "842186186521918"
      ]
     },
     "execution_count": 5,
     "metadata": {},
     "output_type": "execute_result"
    }
   ],
   "source": [
    "solve2(buses)"
   ]
  }
 ],
 "metadata": {
  "kernelspec": {
   "display_name": "Python 3",
   "language": "python",
   "name": "python3"
  },
  "language_info": {
   "codemirror_mode": {
    "name": "ipython",
    "version": 3
   },
   "file_extension": ".py",
   "mimetype": "text/x-python",
   "name": "python",
   "nbconvert_exporter": "python",
   "pygments_lexer": "ipython3",
   "version": "3.9.0"
  }
 },
 "nbformat": 4,
 "nbformat_minor": 4
}
